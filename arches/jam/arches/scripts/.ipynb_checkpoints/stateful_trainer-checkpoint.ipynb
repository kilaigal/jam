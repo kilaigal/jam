{
 "cells": [
  {
   "cell_type": "markdown",
   "metadata": {},
   "source": [
    "## Music Generation V1\n",
    "\n",
    "\n",
    "This script builds a model to learn music sequences from MIDI files. The model is a stacked LSTM model which takes as input a set of temporal notes and predicts the next note in the sequence"
   ]
  },
  {
   "cell_type": "code",
   "execution_count": 21,
   "metadata": {},
   "outputs": [],
   "source": [
    "import os, random\n",
    "import numpy as np\n",
    "import pandas as pd\n",
    "import glob"
   ]
  },
  {
   "cell_type": "code",
   "execution_count": 162,
   "metadata": {},
   "outputs": [],
   "source": [
    "# Libs for music processing \n",
    "import msgpack\n",
    "import mido\n",
    "from mido import MidiFile"
   ]
  },
  {
   "cell_type": "code",
   "execution_count": 163,
   "metadata": {},
   "outputs": [],
   "source": [
    "# Using music 21\n",
    "\n",
    "from music21 import midi\n",
    "from music21 import converter, instrument, note, chord, stream"
   ]
  },
  {
   "cell_type": "code",
   "execution_count": 164,
   "metadata": {},
   "outputs": [],
   "source": [
    "# For preprocessing and modeling\n",
    "from sklearn.preprocessing import MinMaxScaler\n",
    "from keras.utils import np_utils\n",
    "from keras.layers import LSTM, Input, Dense, Embedding, Flatten, Reshape\n",
    "from keras.activations import relu, tanh\n",
    "from keras.models import Model\n",
    "from keras.preprocessing.text import one_hot"
   ]
  },
  {
   "cell_type": "markdown",
   "metadata": {},
   "source": [
    "## Fetching data from midi files\n",
    "\n",
    "They are extracted as notes"
   ]
  },
  {
   "cell_type": "code",
   "execution_count": null,
   "metadata": {},
   "outputs": [],
   "source": []
  },
  {
   "cell_type": "code",
   "execution_count": null,
   "metadata": {},
   "outputs": [],
   "source": []
  },
  {
   "cell_type": "code",
   "execution_count": null,
   "metadata": {},
   "outputs": [],
   "source": []
  },
  {
   "cell_type": "markdown",
   "metadata": {},
   "source": [
    "### Appendix"
   ]
  },
  {
   "cell_type": "markdown",
   "metadata": {},
   "source": [
    "### Alphabet simluation\n",
    "\n",
    "Before predicting music, let's build a simple aphabet predictor and make sure it works.\n",
    "\n",
    "Predict ['A'] --> ['B']"
   ]
  },
  {
   "cell_type": "code",
   "execution_count": 237,
   "metadata": {},
   "outputs": [],
   "source": [
    "LETTERS = 'ABCDEFGHIJKLMNOPQRSTUVWXYZ'\n",
    "c2i = {}\n",
    "i2c = {}\n",
    "for i in range(len(LETTERS)):\n",
    "    c2i[LETTERS[i]] = i\n",
    "    i2c[i] = LETTERS[i]"
   ]
  },
  {
   "cell_type": "code",
   "execution_count": 325,
   "metadata": {},
   "outputs": [
    {
     "name": "stdout",
     "output_type": "stream",
     "text": [
      "['A', 'B', 'C'] ['D']\n"
     ]
    }
   ],
   "source": [
    "time_step_length = 3\n",
    "train_X = []\n",
    "train_Y = []\n",
    "for i in range(len(LETTERS) - time_step_length):\n",
    "    train_X.append(list(LETTERS[i: i+time_step_length]))\n",
    "    train_Y.append(LETTERS[i+time_step_length])\n",
    "\n",
    "train_Y = np.reshape(train_Y, (len(train_Y), 1))\n",
    "print(train_X[0], train_Y[0])"
   ]
  },
  {
   "cell_type": "code",
   "execution_count": 386,
   "metadata": {},
   "outputs": [
    {
     "name": "stdout",
     "output_type": "stream",
     "text": [
      "(23, 3, 1)\n",
      "[[[0.04]\n",
      "  [0.08]\n",
      "  [0.12]]]\n",
      "[0. 0. 0. 0. 1. 0. 0. 0. 0. 0. 0. 0. 0. 0. 0. 0. 0. 0. 0. 0. 0. 0. 0. 0.\n",
      " 0. 0.]\n"
     ]
    }
   ],
   "source": [
    "X = []\n",
    "Y = []\n",
    "max_val = np.max(list(c2i.values()))\n",
    "\n",
    "# Encode and transform X\n",
    "for e in train_X:\n",
    "    X.append([c2i[se] for se in e])\n",
    "X = np.reshape(np.array(X), (len(X), time_step_length, 1))\n",
    "X = X/max_val\n",
    "\n",
    "# Encode and transform Y\n",
    "Y = [c2i[e] for e in train_Y.flatten()]\n",
    "Y = np_utils.to_categorical(Y)\n",
    "\n",
    "print(X.shape)\n",
    "print(X[[1]])\n",
    "print(Y[1])"
   ]
  },
  {
   "cell_type": "code",
   "execution_count": 387,
   "metadata": {},
   "outputs": [
    {
     "data": {
      "text/plain": [
       "23"
      ]
     },
     "execution_count": 387,
     "metadata": {},
     "output_type": "execute_result"
    }
   ],
   "source": [
    "Y.shape[0]"
   ]
  },
  {
   "cell_type": "code",
   "execution_count": null,
   "metadata": {},
   "outputs": [],
   "source": []
  },
  {
   "cell_type": "code",
   "execution_count": 404,
   "metadata": {},
   "outputs": [
    {
     "name": "stdout",
     "output_type": "stream",
     "text": [
      "_________________________________________________________________\n",
      "Layer (type)                 Output Shape              Param #   \n",
      "=================================================================\n",
      "input_65 (InputLayer)        (None, 3, 1)              0         \n",
      "_________________________________________________________________\n",
      "lstm_42 (LSTM)               (None, 1)                 12        \n",
      "_________________________________________________________________\n",
      "dense_17 (Dense)             (None, 26)                52        \n",
      "=================================================================\n",
      "Total params: 64\n",
      "Trainable params: 64\n",
      "Non-trainable params: 0\n",
      "_________________________________________________________________\n"
     ]
    }
   ],
   "source": [
    "# Simple model to encode the categorical variable and pass it though a dense layer\n",
    "model_input = Input(shape=(time_step_length, 1))\n",
    "# emb_layer_1 = Embedding(input_dim=26, output_dim=8)(model_input)\n",
    "# flat_1 = Flatten()(emb_layer_1)\n",
    "# shape_1 = Reshape(target_shape=(time_step_length,8))(emb_layer_1)\n",
    "lstm_1 = LSTM(1, return_sequences=False, return_state=False)(model_input)\n",
    "dense_1 = Dense(Y.shape[1], activation='softmax')(lstm_1)\n",
    "model = Model(model_input, dense_1)\n",
    "model.summary()"
   ]
  },
  {
   "cell_type": "code",
   "execution_count": 405,
   "metadata": {},
   "outputs": [
    {
     "data": {
      "text/plain": [
       "array([[0.03873375, 0.03813245, 0.03835814, 0.03849081, 0.03874741,\n",
       "        0.03856536, 0.03857245, 0.03841167, 0.03821522, 0.03832662,\n",
       "        0.03850126, 0.03878108, 0.03850385, 0.03874188, 0.03871085,\n",
       "        0.03837019, 0.03820381, 0.03803897, 0.03817413, 0.03826901,\n",
       "        0.03863152, 0.03810645, 0.03865402, 0.03855532, 0.03863788,\n",
       "        0.03856586]], dtype=float32)"
      ]
     },
     "execution_count": 405,
     "metadata": {},
     "output_type": "execute_result"
    }
   ],
   "source": [
    "# print(m-odel.predict(X).shape)\n",
    "a = model.predict(X[[1]])\n",
    "a"
   ]
  },
  {
   "cell_type": "code",
   "execution_count": 406,
   "metadata": {},
   "outputs": [
    {
     "name": "stdout",
     "output_type": "stream",
     "text": [
      "Epoch 1/10\n",
      "23/23 [==============================] - 2s 95ms/step - loss: 3.2592\n",
      "Epoch 2/10\n",
      "23/23 [==============================] - 0s 250us/step - loss: 3.2592\n",
      "Epoch 3/10\n",
      "23/23 [==============================] - 0s 379us/step - loss: 3.2591\n",
      "Epoch 4/10\n",
      "23/23 [==============================] - 0s 551us/step - loss: 3.2591\n",
      "Epoch 5/10\n",
      "23/23 [==============================] - 0s 339us/step - loss: 3.2590\n",
      "Epoch 6/10\n",
      "23/23 [==============================] - 0s 524us/step - loss: 3.2590\n",
      "Epoch 7/10\n",
      "23/23 [==============================] - 0s 241us/step - loss: 3.2589\n",
      "Epoch 8/10\n",
      "23/23 [==============================] - 0s 291us/step - loss: 3.2589\n",
      "Epoch 9/10\n",
      "23/23 [==============================] - 0s 360us/step - loss: 3.2588\n",
      "Epoch 10/10\n",
      "23/23 [==============================] - 0s 377us/step - loss: 3.2588\n"
     ]
    },
    {
     "data": {
      "text/plain": [
       "<keras.callbacks.History at 0x1361faeb8>"
      ]
     },
     "execution_count": 406,
     "metadata": {},
     "output_type": "execute_result"
    }
   ],
   "source": [
    "model.compile(loss='categorical_crossentropy', optimizer='sgd')\n",
    "model.fit(X, Y, epochs=10)"
   ]
  },
  {
   "cell_type": "code",
   "execution_count": 407,
   "metadata": {},
   "outputs": [
    {
     "name": "stdout",
     "output_type": "stream",
     "text": [
      "[0. 0. 0. 1. 0. 0. 0. 0. 0. 0. 0. 0. 0. 0. 0. 0. 0. 0. 0. 0. 0. 0. 0. 0.\n",
      " 0. 0.]\n"
     ]
    },
    {
     "data": {
      "text/plain": [
       "array([[0.9616774 , 0.95320845, 0.95639545, 0.9624334 , 0.9660541 ,\n",
       "        0.96348774, 0.9635884 , 0.96131665, 0.9585336 , 0.96011347,\n",
       "        0.96258485, 0.9665317 , 0.9626223 , 0.9659805 , 0.96554375,\n",
       "        0.9607327 , 0.9583746 , 0.956033  , 0.95795393, 0.95930016,\n",
       "        0.9644268 , 0.9569931 , 0.9647444 , 0.96335167, 0.96451706,\n",
       "        0.9635008 ]], dtype=float32)"
      ]
     },
     "execution_count": 407,
     "metadata": {},
     "output_type": "execute_result"
    }
   ],
   "source": [
    "print(Y[0])\n",
    "model.predict(X[[0]])*max_val"
   ]
  },
  {
   "cell_type": "code",
   "execution_count": 408,
   "metadata": {},
   "outputs": [
    {
     "data": {
      "text/plain": [
       "array([[0.9645791 , 0.94969904, 0.9552858 , 0.96274006, 0.9691164 ,\n",
       "        0.96459484, 0.964772  , 0.9607774 , 0.9558947 , 0.958665  ,\n",
       "        0.9630064 , 0.96995896, 0.9630721 , 0.96898663, 0.96821636,\n",
       "        0.95975184, 0.95561594, 0.9515176 , 0.95487905, 0.9572383 ,\n",
       "        0.96624804, 0.953197  , 0.9668075 , 0.9643553 , 0.966407  ,\n",
       "        0.9646176 ]], dtype=float32)"
      ]
     },
     "execution_count": 408,
     "metadata": {},
     "output_type": "execute_result"
    }
   ],
   "source": [
    "model.predict(X[[1]])*max_val"
   ]
  },
  {
   "cell_type": "code",
   "execution_count": null,
   "metadata": {},
   "outputs": [],
   "source": []
  }
 ],
 "metadata": {
  "kernelspec": {
   "display_name": "Python 3",
   "language": "python",
   "name": "python3"
  },
  "language_info": {
   "codemirror_mode": {
    "name": "ipython",
    "version": 3
   },
   "file_extension": ".py",
   "mimetype": "text/x-python",
   "name": "python",
   "nbconvert_exporter": "python",
   "pygments_lexer": "ipython3",
   "version": "3.7.3"
  }
 },
 "nbformat": 4,
 "nbformat_minor": 2
}
